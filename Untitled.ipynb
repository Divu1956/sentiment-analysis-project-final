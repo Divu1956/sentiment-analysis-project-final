{
 "cells": [
  {
   "cell_type": "code",
   "execution_count": 1,
   "metadata": {},
   "outputs": [],
   "source": [
    "# Imports\n",
    "import numpy as np\n",
    "import time\n",
    "import pandas as pd\n",
    "import matplotlib.pyplot as plt\n",
    "import re\n",
    "from bs4 import BeautifulSoup\n",
    "import nltk\n",
    "from sklearn.feature_extraction.text import TfidfVectorizer\n",
    "from sklearn.linear_model import LogisticRegression\n",
    "from sklearn.metrics import accuracy_score, log_loss, confusion_matrix, auc, roc_curve\n",
    "from sklearn.model_selection import GridSearchCV\n",
    "from sklearn.pipeline import FeatureUnion, Pipeline\n",
    "import joblib\n",
    "from sklearn.model_selection import train_test_split"
   ]
  },
  {
   "cell_type": "code",
   "execution_count": 2,
   "id": "566b0e13",
   "metadata": {},
   "outputs": [],
   "source": [
    "\n",
    "DATASET_ENCODING = \"ISO-8859-1\"\n",
    "data = pd.read_csv('training.1600000.processed.noemoticon.csv',encoding = DATASET_ENCODING, engine='python')\n"
   ]
  },
  {
   "cell_type": "code",
   "execution_count": 3,
   "id": "f9626580",
   "metadata": {},
   "outputs": [],
   "source": [
    "train_ratio = 0.8\n",
    "test_ratio = 0.2\n",
    "\n",
    "# Calculate the number of samples for training and testing\n",
    "train_samples = int(len(data) * train_ratio)\n",
    "test_samples = len(data) - train_samples\n",
    "\n",
    "# Split the data into training and testing sets\n",
    "train = data[:train_samples]\n",
    "test = data[-test_samples:]"
   ]
  },
  {
   "cell_type": "code",
   "execution_count": 4,
   "id": "db42b7a2",
   "metadata": {},
   "outputs": [
    {
     "data": {
      "text/html": [
       "<div>\n",
       "<style scoped>\n",
       "    .dataframe tbody tr th:only-of-type {\n",
       "        vertical-align: middle;\n",
       "    }\n",
       "\n",
       "    .dataframe tbody tr th {\n",
       "        vertical-align: top;\n",
       "    }\n",
       "\n",
       "    .dataframe thead th {\n",
       "        text-align: right;\n",
       "    }\n",
       "</style>\n",
       "<table border=\"1\" class=\"dataframe\">\n",
       "  <thead>\n",
       "    <tr style=\"text-align: right;\">\n",
       "      <th></th>\n",
       "      <th>sentiment</th>\n",
       "      <th>id</th>\n",
       "      <th>date</th>\n",
       "      <th>query_string</th>\n",
       "      <th>user</th>\n",
       "      <th>text</th>\n",
       "    </tr>\n",
       "  </thead>\n",
       "  <tbody>\n",
       "    <tr>\n",
       "      <th>0</th>\n",
       "      <td>0</td>\n",
       "      <td>1467810672</td>\n",
       "      <td>Mon Apr 06 22:19:49 PDT 2009</td>\n",
       "      <td>NO_QUERY</td>\n",
       "      <td>scotthamilton</td>\n",
       "      <td>is upset that he can't update his Facebook by ...</td>\n",
       "    </tr>\n",
       "    <tr>\n",
       "      <th>1</th>\n",
       "      <td>0</td>\n",
       "      <td>1467810917</td>\n",
       "      <td>Mon Apr 06 22:19:53 PDT 2009</td>\n",
       "      <td>NO_QUERY</td>\n",
       "      <td>mattycus</td>\n",
       "      <td>@Kenichan I dived many times for the ball. Man...</td>\n",
       "    </tr>\n",
       "    <tr>\n",
       "      <th>2</th>\n",
       "      <td>0</td>\n",
       "      <td>1467811184</td>\n",
       "      <td>Mon Apr 06 22:19:57 PDT 2009</td>\n",
       "      <td>NO_QUERY</td>\n",
       "      <td>ElleCTF</td>\n",
       "      <td>my whole body feels itchy and like its on fire</td>\n",
       "    </tr>\n",
       "    <tr>\n",
       "      <th>3</th>\n",
       "      <td>0</td>\n",
       "      <td>1467811193</td>\n",
       "      <td>Mon Apr 06 22:19:57 PDT 2009</td>\n",
       "      <td>NO_QUERY</td>\n",
       "      <td>Karoli</td>\n",
       "      <td>@nationwideclass no, it's not behaving at all....</td>\n",
       "    </tr>\n",
       "    <tr>\n",
       "      <th>4</th>\n",
       "      <td>0</td>\n",
       "      <td>1467811372</td>\n",
       "      <td>Mon Apr 06 22:20:00 PDT 2009</td>\n",
       "      <td>NO_QUERY</td>\n",
       "      <td>joy_wolf</td>\n",
       "      <td>@Kwesidei not the whole crew</td>\n",
       "    </tr>\n",
       "  </tbody>\n",
       "</table>\n",
       "</div>"
      ],
      "text/plain": [
       "   sentiment          id                          date query_string  \\\n",
       "0          0  1467810672  Mon Apr 06 22:19:49 PDT 2009     NO_QUERY   \n",
       "1          0  1467810917  Mon Apr 06 22:19:53 PDT 2009     NO_QUERY   \n",
       "2          0  1467811184  Mon Apr 06 22:19:57 PDT 2009     NO_QUERY   \n",
       "3          0  1467811193  Mon Apr 06 22:19:57 PDT 2009     NO_QUERY   \n",
       "4          0  1467811372  Mon Apr 06 22:20:00 PDT 2009     NO_QUERY   \n",
       "\n",
       "            user                                               text  \n",
       "0  scotthamilton  is upset that he can't update his Facebook by ...  \n",
       "1       mattycus  @Kenichan I dived many times for the ball. Man...  \n",
       "2        ElleCTF    my whole body feels itchy and like its on fire   \n",
       "3         Karoli  @nationwideclass no, it's not behaving at all....  \n",
       "4       joy_wolf                      @Kwesidei not the whole crew   "
      ]
     },
     "execution_count": 4,
     "metadata": {},
     "output_type": "execute_result"
    }
   ],
   "source": [
    "# Dataset of 1.6m Twitter tweets\n",
    "columns = ['sentiment', 'id', 'date', 'query_string', 'user', 'text']\n",
    "train = train[columns]\n",
    "train.head()"
   ]
  },
  {
   "cell_type": "code",
   "execution_count": 5,
   "id": "239ae605",
   "metadata": {},
   "outputs": [
    {
     "data": {
      "text/html": [
       "<div>\n",
       "<style scoped>\n",
       "    .dataframe tbody tr th:only-of-type {\n",
       "        vertical-align: middle;\n",
       "    }\n",
       "\n",
       "    .dataframe tbody tr th {\n",
       "        vertical-align: top;\n",
       "    }\n",
       "\n",
       "    .dataframe thead th {\n",
       "        text-align: right;\n",
       "    }\n",
       "</style>\n",
       "<table border=\"1\" class=\"dataframe\">\n",
       "  <thead>\n",
       "    <tr style=\"text-align: right;\">\n",
       "      <th></th>\n",
       "      <th>sentiment</th>\n",
       "      <th>id</th>\n",
       "      <th>date</th>\n",
       "      <th>query_string</th>\n",
       "      <th>user</th>\n",
       "      <th>text</th>\n",
       "    </tr>\n",
       "  </thead>\n",
       "  <tbody>\n",
       "    <tr>\n",
       "      <th>838860</th>\n",
       "      <td>4</td>\n",
       "      <td>1559224989</td>\n",
       "      <td>Sun Apr 19 10:35:23 PDT 2009</td>\n",
       "      <td>NO_QUERY</td>\n",
       "      <td>AN0NYM0US1</td>\n",
       "      <td>do u feel me ?  let me know......................</td>\n",
       "    </tr>\n",
       "    <tr>\n",
       "      <th>838861</th>\n",
       "      <td>4</td>\n",
       "      <td>1559225026</td>\n",
       "      <td>Sun Apr 19 10:35:26 PDT 2009</td>\n",
       "      <td>NO_QUERY</td>\n",
       "      <td>geekandahalf</td>\n",
       "      <td>@zrecsmom See, you know.</td>\n",
       "    </tr>\n",
       "    <tr>\n",
       "      <th>838862</th>\n",
       "      <td>4</td>\n",
       "      <td>1559225032</td>\n",
       "      <td>Sun Apr 19 10:35:24 PDT 2009</td>\n",
       "      <td>NO_QUERY</td>\n",
       "      <td>iFroggy</td>\n",
       "      <td>@kristeclectic @waynesutton @kbodnar32 @funkyb...</td>\n",
       "    </tr>\n",
       "    <tr>\n",
       "      <th>838863</th>\n",
       "      <td>4</td>\n",
       "      <td>1559225054</td>\n",
       "      <td>Sun Apr 19 10:35:24 PDT 2009</td>\n",
       "      <td>NO_QUERY</td>\n",
       "      <td>RawrrItsHope</td>\n",
       "      <td>I got a cool new phone .  Yeaaa.</td>\n",
       "    </tr>\n",
       "    <tr>\n",
       "      <th>838864</th>\n",
       "      <td>4</td>\n",
       "      <td>1559225060</td>\n",
       "      <td>Sun Apr 19 10:35:25 PDT 2009</td>\n",
       "      <td>NO_QUERY</td>\n",
       "      <td>youngfreshnew</td>\n",
       "      <td>@Heyhomee not tonight but around the NBA Final...</td>\n",
       "    </tr>\n",
       "  </tbody>\n",
       "</table>\n",
       "</div>"
      ],
      "text/plain": [
       "        sentiment          id                          date query_string  \\\n",
       "838860          4  1559224989  Sun Apr 19 10:35:23 PDT 2009     NO_QUERY   \n",
       "838861          4  1559225026  Sun Apr 19 10:35:26 PDT 2009     NO_QUERY   \n",
       "838862          4  1559225032  Sun Apr 19 10:35:24 PDT 2009     NO_QUERY   \n",
       "838863          4  1559225054  Sun Apr 19 10:35:24 PDT 2009     NO_QUERY   \n",
       "838864          4  1559225060  Sun Apr 19 10:35:25 PDT 2009     NO_QUERY   \n",
       "\n",
       "                 user                                               text  \n",
       "838860     AN0NYM0US1  do u feel me ?  let me know......................  \n",
       "838861   geekandahalf                          @zrecsmom See, you know.   \n",
       "838862        iFroggy  @kristeclectic @waynesutton @kbodnar32 @funkyb...  \n",
       "838863   RawrrItsHope                   I got a cool new phone .  Yeaaa.  \n",
       "838864  youngfreshnew  @Heyhomee not tonight but around the NBA Final...  "
      ]
     },
     "execution_count": 5,
     "metadata": {},
     "output_type": "execute_result"
    }
   ],
   "source": [
    "test = test[columns]\n",
    "test.head()"
   ]
  },
  {
   "cell_type": "code",
   "execution_count": 6,
   "id": "efd7834a",
   "metadata": {},
   "outputs": [],
   "source": [
    "## Local helpers\n",
    "\n",
    "# AUC visualization\n",
    "def show_roc(model, test, test_labels):\n",
    "    # Predict\n",
    "    probs = model.predict_proba(test)\n",
    "    preds = probs[:,1]\n",
    "    fpr, tpr, threshold = roc_curve(test_labels, preds)\n",
    "    roc_auc = auc(fpr, tpr)\n",
    "    # Chart\n",
    "    plt.title('Receiver Operating Characteristic')\n",
    "    plt.plot(fpr, tpr, 'b', label = 'AUC = %0.2f' % roc_auc)\n",
    "    plt.legend(loc = 'lower right')\n",
    "    plt.plot([0, 1], [0, 1],'r--')\n",
    "    plt.xlim([0, 1])\n",
    "    plt.ylim([0, 1])\n",
    "    plt.ylabel('True Positive Rate')\n",
    "    plt.xlabel('False Positive Rate')\n",
    "    plt.show()\n",
    "\n",
    "# Tweet cleanser\n",
    "tok = nltk.tokenize.WordPunctTokenizer()\n",
    "pat1 = r'@[A-Za-z0-9_]+'\n",
    "pat2 = r'https?://[^ ]+'\n",
    "combined_pat = r'|'.join((pat1, pat2))\n",
    "www_pat = r'www.[^ ]+'\n",
    "negations_dic = {\"isn't\":\"is not\", \"aren't\":\"are not\", \"wasn't\":\"was not\", \"weren't\":\"were not\",\n",
    "                \"haven't\":\"have not\",\"hasn't\":\"has not\",\"hadn't\":\"had not\",\"won't\":\"will not\",\n",
    "                \"wouldn't\":\"would not\", \"don't\":\"do not\", \"doesn't\":\"does not\",\"didn't\":\"did not\",\n",
    "                \"can't\":\"can not\",\"couldn't\":\"could not\",\"shouldn't\":\"should not\",\"mightn't\":\"might not\",\n",
    "                \"mustn't\":\"must not\"}\n",
    "neg_pattern = re.compile(r'\\b(' + '|'.join(negations_dic.keys()) + r')\\b')\n",
    "def clean_tweet(text):\n",
    "    soup = BeautifulSoup(text, 'lxml')\n",
    "    souped = soup.get_text()\n",
    "    try:\n",
    "        bom_removed = souped.decode(\"utf-8-sig\").replace(u\"\\ufffd\", \"?\")\n",
    "    except:\n",
    "        bom_removed = souped\n",
    "    stripped = re.sub(combined_pat, '', bom_removed)\n",
    "    stripped = re.sub(www_pat, '', stripped)\n",
    "    lower_case = stripped.lower()\n",
    "    neg_handled = neg_pattern.sub(lambda x: negations_dic[x.group()], lower_case)\n",
    "    letters_only = re.sub(\"[^a-zA-Z]\", \" \", neg_handled)\n",
    "    # During the letters_only process two lines above, it has created unnecessay white spaces,\n",
    "    # I will tokenize and join together to remove unneccessary white spaces\n",
    "    words = [x for x  in tok.tokenize(letters_only) if len(x) > 1]\n",
    "    return (\" \".join(words)).strip()"
   ]
  },
  {
   "cell_type": "code",
   "execution_count": 7,
   "id": "01aac0fd",
   "metadata": {},
   "outputs": [
    {
     "name": "stderr",
     "output_type": "stream",
     "text": [
      "C:\\Users\\navee\\AppData\\Local\\Temp\\ipykernel_14436\\4072103737.py:34: MarkupResemblesLocatorWarning: The input looks more like a filename than markup. You may want to open this file and pass the filehandle into Beautiful Soup.\n",
      "  soup = BeautifulSoup(text, 'lxml')\n",
      "C:\\Users\\navee\\AppData\\Local\\Temp\\ipykernel_14436\\1462700413.py:7: SettingWithCopyWarning: \n",
      "A value is trying to be set on a copy of a slice from a DataFrame\n",
      "\n",
      "See the caveats in the documentation: https://pandas.pydata.org/pandas-docs/stable/user_guide/indexing.html#returning-a-view-versus-a-copy\n",
      "  cleaned_df.target[cleaned_df.target == 4] = 1 # rename 4 to 1 as positive label\n"
     ]
    }
   ],
   "source": [
    "# Data cleaning\n",
    "cleaned_tweets = []\n",
    "for tweet in train['text']:                                                                 \n",
    "    cleaned_tweets.append(clean_tweet(tweet))\n",
    "cleaned_df = pd.DataFrame(cleaned_tweets, columns=['text'])\n",
    "cleaned_df['target'] = train.sentiment\n",
    "cleaned_df.target[cleaned_df.target == 4] = 1 # rename 4 to 1 as positive label\n",
    "cleaned_df = cleaned_df[cleaned_df.target != 2] # remove neutral labels\n",
    "cleaned_df = cleaned_df.dropna() # drop null records\n",
    "cleaned_df.to_csv('stanford_clean_twitter_train.csv',encoding='utf-8')"
   ]
  },
  {
   "cell_type": "code",
   "execution_count": 8,
   "id": "7fe1d74f",
   "metadata": {},
   "outputs": [],
   "source": [
    "# Starting point from import\n",
    "csv = 'stanford_clean_twitter_train.csv'\n",
    "df = pd.read_csv(csv,index_col=0)"
   ]
  },
  {
   "cell_type": "code",
   "execution_count": 9,
   "id": "4857ab19",
   "metadata": {},
   "outputs": [],
   "source": [
    "# Random shuffle and ensure no null records\n",
    "df = df.sample(frac=1).reset_index(drop=True)\n",
    "df = df.dropna() # drop null records"
   ]
  },
  {
   "cell_type": "code",
   "execution_count": 10,
   "id": "f4443ba6",
   "metadata": {},
   "outputs": [],
   "source": [
    "# X, y = df.text[0:200000], df.target[0:200000] # Max data size 200k->800k for memory purposes\n",
    "X, y = df.text[0:1000], df.target[0:1000] # Max data size 200k->800k for memory purposes\n",
    "\n",
    "X_train, X_test, y_train, y_test = train_test_split(X, y, random_state=42, test_size=0.10)"
   ]
  },
  {
   "cell_type": "code",
   "execution_count": 11,
   "id": "4339e39a",
   "metadata": {},
   "outputs": [
    {
     "name": "stdout",
     "output_type": "stream",
     "text": [
      "(900,)\n",
      "(100,)\n",
      "[0 1]\n"
     ]
    }
   ],
   "source": [
    "# Dataset shapes post-split\n",
    "print(np.shape(X_train))\n",
    "print(np.shape(X_test))\n",
    "print(np.unique(y_train))"
   ]
  },
  {
   "cell_type": "code",
   "execution_count": 12,
   "id": "664c2647",
   "metadata": {},
   "outputs": [],
   "source": [
    "# NLTK Twitter tokenizer best used for short comment-type text sets\n",
    "import nltk\n",
    "tokenizer = nltk.casual.TweetTokenizer(preserve_case=False)"
   ]
  },
  {
   "cell_type": "code",
   "execution_count": 13,
   "id": "18f78389",
   "metadata": {},
   "outputs": [
    {
     "name": "stdout",
     "output_type": "stream",
     "text": [
      "Performing grid search...\n",
      "pipeline: ['tfidf', 'clf']\n",
      "Fitting 3 folds for each of 81 candidates, totalling 243 fits\n",
      "done in 20.155s\n",
      "\n",
      "Best score: 0.948\n",
      "Best parameters set:\n",
      "\tclf__C: 0.01\n",
      "\ttfidf__max_df: 0.25\n",
      "\ttfidf__ngram_range: (1, 1)\n",
      "\ttfidf__norm: 'l1'\n"
     ]
    }
   ],
   "source": [
    "# Hyperparameter tuning (Simple model)\n",
    "#cvect = CountVectorizer(tokenizer=tokenizer.tokenize)\n",
    "tfidf = TfidfVectorizer()\n",
    "# clf = LogisticRegression(max_iter=10000)\n",
    "clf = LogisticRegression()\n",
    "\n",
    "pipeline = Pipeline([\n",
    "        ('tfidf', tfidf),\n",
    "        ('clf', clf)\n",
    "    ])\n",
    "\n",
    "parameters = {\n",
    "    'tfidf__ngram_range': [(1,1), (1,2), (1,3)], # ngram range of tokenizer\n",
    "    'tfidf__norm': ['l1', 'l2', None], # term vector normalization\n",
    "    'tfidf__max_df': [0.25, 0.5, 1.0], # maximum document frequency for the CountVectorizer\n",
    "    'clf__C': np.logspace(-2, 0, 3) # C value for the LogisticRegression\n",
    "}\n",
    "\n",
    "grid = GridSearchCV(pipeline, parameters, cv=3, verbose=1)\n",
    "print(\"Performing grid search...\")\n",
    "print(\"pipeline:\", [name for name, _ in pipeline.steps])\n",
    "t0 = time.time()\n",
    "grid.fit(X_train, y_train)\n",
    "print(\"done in %0.3fs\" % (time.time() - t0))\n",
    "print()\n",
    "\n",
    "print(\"Best score: %0.3f\" % grid.best_score_)\n",
    "print(\"Best parameters set:\")\n",
    "best_parameters = grid.best_estimator_.get_params()\n",
    "for param_name in sorted(parameters.keys()):\n",
    "    print(\"\\t%s: %r\" % (param_name, best_parameters[param_name]))"
   ]
  },
  {
   "cell_type": "code",
   "execution_count": 14,
   "id": "7a56f35c",
   "metadata": {},
   "outputs": [
    {
     "data": {
      "text/plain": [
       "['lr_sentiment_cv.pkl']"
      ]
     },
     "execution_count": 14,
     "metadata": {},
     "output_type": "execute_result"
    }
   ],
   "source": [
    "# Dump model from grid search cv\n",
    "joblib.dump(grid.best_estimator_, 'lr_sentiment_cv.pkl', compress=1)"
   ]
  },
  {
   "cell_type": "code",
   "execution_count": 15,
   "id": "f8e2be15",
   "metadata": {},
   "outputs": [],
   "source": [
    "# Starting point 2: Post-model load comparison\n",
    "# lra = joblib.load('./Models/Stanford_Twitter_Models/lr_sentiment_cv.pkl') \n",
    "# lrb = joblib.load('./Models/Twitter_Simple_Models/lr_sentiment_basic.pkl') \n",
    "lrb = joblib.load('lr_sentiment_cv.pkl') "
   ]
  },
  {
   "cell_type": "code",
   "execution_count": 16,
   "id": "1e8bb95f",
   "metadata": {},
   "outputs": [
    {
     "name": "stdout",
     "output_type": "stream",
     "text": [
      "[[91  0]\n",
      " [ 9  0]]\n"
     ]
    },
    {
     "data": {
      "image/png": "[encoded data removed]",
      "text/plain": [
       "<Figure size 640x480 with 1 Axes>"
      ]
     },
     "metadata": {},
     "output_type": "display_data"
    }
   ],
   "source": [
    "# Model performance indicators for basic model\n",
    "y_pred_basic = lrb.predict(X_test)\n",
    "print(confusion_matrix(y_test, y_pred_basic))\n",
    "show_roc(lrb, X_test, y_test) # AUC"
   ]
  },
  {
   "cell_type": "code",
   "execution_count": 19,
   "id": "e75070ef",
   "metadata": {},
   "outputs": [],
   "source": [
    "# Model performance indicators for hypertuned model\n",
    "y_pred_hyper = lra.predict(X_test)\n",
    "print(confusion_matrix(y_test, y_pred_hyper))\n",
    "show_roc(lra, X_test, y_test) # AUC"
   ]
  },
  {
   "cell_type": "code",
   "execution_count": 23,
   "id": "dffad2c7",
   "metadata": {},
   "outputs": [
    {
     "name": "stdout",
     "output_type": "stream",
     "text": [
      "[0]\n",
      "[0]\n",
      "[0]\n",
      "[0]\n",
      "[0]\n",
      "[0]\n",
      "[0]\n",
      "[0]\n",
      "[0]\n",
      "[0]\n",
      "[0]\n"
     ]
    }
   ],
   "source": [
    "print(lrb.predict([\"terrible idea why was this even made\"]))\n",
    "print(lrb.predict([\"that was the best movie ever\"]))\n",
    "print(lrb.predict([\"awesome\"]))\n",
    "print(lrb.predict([\"happy diwali\"]))\n",
    "print(lrb.predict([\"good morning\"]))\n",
    "print(lrb.predict([\"worst video ever\"]))\n",
    "print(lrb.predict([\"best good nice awesome\"]))\n",
    "print(lrb.predict([\"best\"]))\n",
    "print(lrb.predict([\"marvellous\"]))\n",
    "print(lrb.predict([\"may god bless you\"]))\n",
    "print(lrb.predict([\"congratulations for nice results\"]))"
   ]
  }
 ],
 "metadata": {
  "kernelspec": {
   "display_name": "Python 3",
   "language": "python",
   "name": "python3"
  },
  "language_info": {
   "codemirror_mode": {
    "name": "ipython",
    "version": 3
   },
   "file_extension": ".py",
   "mimetype": "text/x-python",
   "name": "python",
   "nbconvert_exporter": "python",
   "pygments_lexer": "ipython3",
   "version": "3.11.4"
  }
 },
 "nbformat": 4,
 "nbformat_minor": 5
}
